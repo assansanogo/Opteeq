{
 "cells": [
  {
   "cell_type": "markdown",
   "metadata": {
    "collapsed": true,
    "pycharm": {
     "name": "#%% md\n"
    }
   },
   "source": [
    "# AWS pipeline\n",
    "\n",
    "This notebook allows you to run all the pipeline operation. It isn't the documentation for more information cf sphinx documentation or README.md.\n",
    "All the content for the AWS pipeline is in the package `pipeline_aws`"
   ]
  },
  {
   "cell_type": "code",
   "execution_count": 1,
   "metadata": {
    "pycharm": {
     "name": "#%%\n"
    }
   },
   "outputs": [],
   "source": [
    "!pip3 install -q -r requirements.txt"
   ]
  },
  {
   "cell_type": "code",
   "execution_count": 3,
   "metadata": {
    "pycharm": {
     "name": "#%%\n"
    }
   },
   "outputs": [],
   "source": [
    "from pipeline_aws.rename_upload import upload\n",
    "from pipeline_aws.download import download\n",
    "from pipeline_aws.ec2 import run_generation\n",
    "import json"
   ]
  },
  {
   "cell_type": "markdown",
   "metadata": {},
   "source": [
    "## Configuration file\n",
    "For simplicity all the argument of these functions are store in conf.json.\n",
    "You can edit the value in the json or in the cell if you want to use other arguments."
   ]
  },
  {
   "cell_type": "code",
   "execution_count": 5,
   "metadata": {
    "pycharm": {
     "name": "#%%\n"
    }
   },
   "outputs": [],
   "source": [
    "with(open(\"conf.json\", \"r\")) as f:\n",
    "    conf = json.load(f)"
   ]
  },
  {
   "cell_type": "markdown",
   "metadata": {
    "pycharm": {
     "name": "#%% md\n"
    }
   },
   "source": [
    "## Upload image"
   ]
  },
  {
   "cell_type": "code",
   "execution_count": null,
   "metadata": {
    "pycharm": {
     "name": "#%%\n"
    }
   },
   "outputs": [],
   "source": [
    "conf[\"start\"] = upload(user=conf[\"user\"], folder=conf[\"folder\"], start=conf[\"start\"], bucket_raw=conf[\"bucket_raw\"],\n",
    "                       profile=conf[\"profile\"])\n",
    "with open(\"conf.json\", \"w\") as f:\n",
    "    json.dump(conf, f)"
   ]
  },
  {
   "cell_type": "markdown",
   "metadata": {
    "pycharm": {
     "name": "#%% md\n"
    }
   },
   "source": [
    "## Run generation"
   ]
  },
  {
   "cell_type": "code",
   "execution_count": 7,
   "metadata": {
    "pycharm": {
     "name": "#%%\n"
    }
   },
   "outputs": [],
   "source": [
    "run_generation(cloud_provider=conf[\"cloud_provider\"], region=conf[\"dynamoDB\"][\"region\"],\n",
    "               table_name=conf[\"dynamoDB\"][\"table\"], batch_size=conf[\"batch_size\"],\n",
    "               bucket_in=conf[\"bucket_standardized\"], bucket_out=conf[\"bucket_initial_annotation\"],\n",
    "               annotator_names=conf[\"annotator_list\"], profile=conf[\"profile\"])"
   ]
  },
  {
   "cell_type": "markdown",
   "metadata": {
    "pycharm": {
     "name": "#%% md\n"
    }
   },
   "source": [
    "## Download image and json"
   ]
  },
  {
   "cell_type": "code",
   "execution_count": 6,
   "metadata": {
    "pycharm": {
     "name": "#%%\n"
    }
   },
   "outputs": [
    {
     "name": "stderr",
     "output_type": "stream",
     "text": [
      "download json:   0%|          | 0/3 [00:00<?, ?it/s]\n",
      "image/curent json:   0%|          | 0/20 [00:00<?, ?it/s]\u001B[A\n",
      "image/curent json:   5%|▌         | 1/20 [00:00<00:10,  1.82it/s]\u001B[A\n",
      "image/curent json:  10%|█         | 2/20 [00:00<00:06,  2.87it/s]\u001B[A\n",
      "image/curent json:  15%|█▌        | 3/20 [00:00<00:04,  3.75it/s]\u001B[A\n",
      "image/curent json:  20%|██        | 4/20 [00:01<00:03,  4.20it/s]\u001B[A\n",
      "image/curent json:  25%|██▌       | 5/20 [00:01<00:03,  4.66it/s]\u001B[A\n",
      "image/curent json:  30%|███       | 6/20 [00:01<00:02,  4.99it/s]\u001B[A\n",
      "image/curent json:  35%|███▌      | 7/20 [00:01<00:02,  5.17it/s]\u001B[A\n",
      "image/curent json:  40%|████      | 8/20 [00:01<00:02,  5.42it/s]\u001B[A\n",
      "image/curent json:  45%|████▌     | 9/20 [00:01<00:01,  5.59it/s]\u001B[A\n",
      "image/curent json:  50%|█████     | 10/20 [00:02<00:01,  5.59it/s]\u001B[A\n",
      "image/curent json:  55%|█████▌    | 11/20 [00:02<00:01,  5.80it/s]\u001B[A\n",
      "image/curent json:  60%|██████    | 12/20 [00:02<00:01,  5.70it/s]\u001B[A\n",
      "image/curent json:  65%|██████▌   | 13/20 [00:02<00:01,  5.85it/s]\u001B[A\n",
      "image/curent json:  70%|███████   | 14/20 [00:02<00:00,  6.20it/s]\u001B[A\n",
      "image/curent json:  75%|███████▌  | 15/20 [00:02<00:00,  6.32it/s]\u001B[A\n",
      "image/curent json:  80%|████████  | 16/20 [00:03<00:00,  6.24it/s]\u001B[A\n",
      "image/curent json:  85%|████████▌ | 17/20 [00:03<00:00,  6.52it/s]\u001B[A\n",
      "image/curent json:  90%|█████████ | 18/20 [00:03<00:00,  6.28it/s]\u001B[A\n",
      "image/curent json:  95%|█████████▌| 19/20 [00:03<00:00,  6.07it/s]\u001B[A\n",
      "image/curent json: 100%|██████████| 20/20 [00:03<00:00,  6.04it/s]\u001B[A\n",
      "download json:  33%|███▎      | 1/3 [00:03<00:07,  3.87s/it]      \u001B[A\n",
      "image/curent json:   0%|          | 0/20 [00:00<?, ?it/s]\u001B[A\n",
      "image/curent json:   5%|▌         | 1/20 [00:00<00:02,  8.12it/s]\u001B[A\n",
      "image/curent json:  10%|█         | 2/20 [00:00<00:02,  7.40it/s]\u001B[A\n",
      "image/curent json:  15%|█▌        | 3/20 [00:00<00:02,  7.41it/s]\u001B[A\n",
      "image/curent json:  20%|██        | 4/20 [00:00<00:02,  6.78it/s]\u001B[A\n",
      "image/curent json:  25%|██▌       | 5/20 [00:00<00:02,  6.68it/s]\u001B[A\n",
      "image/curent json:  30%|███       | 6/20 [00:00<00:02,  6.83it/s]\u001B[A\n",
      "image/curent json:  35%|███▌      | 7/20 [00:00<00:01,  7.06it/s]\u001B[A\n",
      "image/curent json:  40%|████      | 8/20 [00:01<00:01,  6.76it/s]\u001B[A\n",
      "image/curent json:  45%|████▌     | 9/20 [00:01<00:01,  6.73it/s]\u001B[A\n",
      "image/curent json:  50%|█████     | 10/20 [00:01<00:01,  6.13it/s]\u001B[A\n",
      "image/curent json:  55%|█████▌    | 11/20 [00:01<00:01,  6.38it/s]\u001B[A\n",
      "image/curent json:  60%|██████    | 12/20 [00:01<00:01,  6.59it/s]\u001B[A\n",
      "image/curent json:  65%|██████▌   | 13/20 [00:01<00:01,  6.57it/s]\u001B[A\n",
      "image/curent json:  70%|███████   | 14/20 [00:02<00:01,  5.78it/s]\u001B[A\n",
      "image/curent json:  75%|███████▌  | 15/20 [00:02<00:00,  6.18it/s]\u001B[A\n",
      "image/curent json:  80%|████████  | 16/20 [00:02<00:00,  6.52it/s]\u001B[A\n",
      "image/curent json:  85%|████████▌ | 17/20 [00:02<00:00,  6.42it/s]\u001B[A\n",
      "image/curent json:  90%|█████████ | 18/20 [00:02<00:00,  6.77it/s]\u001B[A\n",
      "image/curent json:  95%|█████████▌| 19/20 [00:02<00:00,  6.79it/s]\u001B[A\n",
      "image/curent json: 100%|██████████| 20/20 [00:03<00:00,  6.91it/s]\u001B[A\n",
      "download json:  67%|██████▋   | 2/3 [00:06<00:03,  3.41s/it]      \u001B[A\n",
      "image/curent json:   0%|          | 0/20 [00:00<?, ?it/s]\u001B[A\n",
      "image/curent json:   5%|▌         | 1/20 [00:00<00:02,  7.92it/s]\u001B[A\n",
      "image/curent json:  10%|█         | 2/20 [00:00<00:02,  7.77it/s]\u001B[A\n",
      "image/curent json:  15%|█▌        | 3/20 [00:00<00:02,  7.17it/s]\u001B[A\n",
      "image/curent json:  20%|██        | 4/20 [00:00<00:02,  7.00it/s]\u001B[A\n",
      "image/curent json:  25%|██▌       | 5/20 [00:00<00:02,  7.18it/s]\u001B[A\n",
      "image/curent json:  30%|███       | 6/20 [00:00<00:01,  7.33it/s]\u001B[A\n",
      "image/curent json:  35%|███▌      | 7/20 [00:00<00:01,  7.33it/s]\u001B[A\n",
      "image/curent json:  40%|████      | 8/20 [00:01<00:01,  6.93it/s]\u001B[A\n",
      "image/curent json:  45%|████▌     | 9/20 [00:01<00:01,  6.84it/s]\u001B[A\n",
      "image/curent json:  50%|█████     | 10/20 [00:01<00:01,  7.02it/s]\u001B[A\n",
      "image/curent json:  55%|█████▌    | 11/20 [00:01<00:02,  4.36it/s]\u001B[A\n",
      "image/curent json:  60%|██████    | 12/20 [00:01<00:01,  5.03it/s]\u001B[A\n",
      "image/curent json:  65%|██████▌   | 13/20 [00:02<00:01,  5.16it/s]\u001B[A\n",
      "image/curent json:  70%|███████   | 14/20 [00:02<00:01,  5.38it/s]\u001B[A\n",
      "image/curent json:  75%|███████▌  | 15/20 [00:02<00:00,  5.83it/s]\u001B[A\n",
      "image/curent json:  80%|████████  | 16/20 [00:02<00:00,  5.79it/s]\u001B[A\n",
      "image/curent json:  85%|████████▌ | 17/20 [00:02<00:00,  5.86it/s]\u001B[A\n",
      "image/curent json:  90%|█████████ | 18/20 [00:02<00:00,  6.16it/s]\u001B[A\n",
      "image/curent json:  95%|█████████▌| 19/20 [00:03<00:00,  6.48it/s]\u001B[A\n",
      "image/curent json: 100%|██████████| 20/20 [00:03<00:00,  6.38it/s]\u001B[A\n",
      "                                                                  \u001B[A\r"
     ]
    }
   ],
   "source": [
    "download(annotator_name=conf[\"user\"], bucket_json=conf[\"bucket_initial_annotation\"],\n",
    "         bucket_image=conf[\"bucket_standardized\"], profile=conf[\"profile\"])"
   ]
  }
 ],
 "metadata": {
  "kernelspec": {
   "display_name": "Python 3",
   "language": "python",
   "name": "python3"
  },
  "language_info": {
   "codemirror_mode": {
    "name": "ipython",
    "version": 3
   },
   "file_extension": ".py",
   "mimetype": "text/x-python",
   "name": "python",
   "nbconvert_exporter": "python",
   "pygments_lexer": "ipython3",
   "version": "3.9.2"
  }
 },
 "nbformat": 4,
 "nbformat_minor": 1
}